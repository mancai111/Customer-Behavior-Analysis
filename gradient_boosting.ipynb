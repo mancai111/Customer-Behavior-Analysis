{
 "cells": [
  {
   "cell_type": "markdown",
   "metadata": {},
   "source": [
    "## Gradient Boosting implementation\n"
   ]
  },
  {
   "cell_type": "code",
   "execution_count": 2,
   "metadata": {},
   "outputs": [],
   "source": [
    "import matplotlib.pyplot as plt\n",
    "import xgboost as xgb\n",
    "from xgboost import XGBRegressor\n",
    "import mltools as ml\n",
    "import numpy as np\n",
    "import sklearn.metrics\n",
    "import sklearn.model_selection"
   ]
  },
  {
   "cell_type": "code",
   "execution_count": 105,
   "metadata": {},
   "outputs": [],
   "source": [
    "X = np.genfromtxt('data/X_train.txt',delimiter = ',')\n",
    "Y = np.genfromtxt('data/Y_train.txt',delimiter = ',')\n",
    "X,Y  = ml.shuffleData(X,Y)\n",
    "Xtr,Ytr = X, Y\n",
    "Xva = np.genfromtxt('data/X_test.txt',delimiter = ',')"
   ]
  },
  {
   "cell_type": "code",
   "execution_count": 106,
   "metadata": {},
   "outputs": [],
   "source": [
    "bst = xgb.XGBRegressor(seed = 4396)"
   ]
  },
  {
   "cell_type": "code",
   "execution_count": 107,
   "metadata": {},
   "outputs": [
    {
     "name": "stdout",
     "output_type": "stream",
     "text": [
      "[22:39:05] WARNING: src/objective/regression_obj.cu:152: reg:linear is now deprecated in favor of reg:squarederror.\n"
     ]
    },
    {
     "data": {
      "text/plain": [
       "XGBRegressor(base_score=0.5, booster='gbtree', colsample_bylevel=1,\n",
       "             colsample_bynode=1, colsample_bytree=1, gamma=0,\n",
       "             importance_type='gain', learning_rate=0.1, max_delta_step=0,\n",
       "             max_depth=3, min_child_weight=1, missing=None, n_estimators=100,\n",
       "             n_jobs=1, nthread=None, objective='reg:linear', random_state=0,\n",
       "             reg_alpha=0, reg_lambda=1, scale_pos_weight=1, seed=4396,\n",
       "             silent=None, subsample=1, verbosity=1)"
      ]
     },
     "execution_count": 107,
     "metadata": {},
     "output_type": "execute_result"
    }
   ],
   "source": [
    "bst.fit(Xtr,Ytr,verbose = True)"
   ]
  },
  {
   "cell_type": "code",
   "execution_count": 138,
   "metadata": {},
   "outputs": [
    {
     "data": {
      "text/plain": [
       "GridSearchCV(cv=5, error_score='raise-deprecating',\n",
       "             estimator=XGBRegressor(base_score=0.5, booster='gbtree',\n",
       "                                    colsample_bylevel=1, colsample_bynode=1,\n",
       "                                    colsample_bytree=1, gamma=0.2,\n",
       "                                    importance_type='gain', learning_rate=0.05,\n",
       "                                    max_delta_step=0, max_depth=4,\n",
       "                                    min_child_weight=2, missing=None,\n",
       "                                    n_estimators=100, n_jobs=6, nthread=12,\n",
       "                                    objective='reg:linear', random_state=0...\n",
       "                                    scale_pos_weight=1, seed=1500, silent=True,\n",
       "                                    subsample=0.8, verbosity=1),\n",
       "             iid='warn', n_jobs=None,\n",
       "             param_grid={'colsample_bytree': [0.8], 'gamma': [0.2],\n",
       "                         'learning_rate': [0.05, 0.025], 'max_depth': [4],\n",
       "                         'min_child_weight': [9], 'n_estimators': [100],\n",
       "                         'reg_alpha': [0.05], 'reg_lambda': [1],\n",
       "                         'subsample': [0.6]},\n",
       "             pre_dispatch='2*n_jobs', refit=True, return_train_score=False,\n",
       "             scoring=None, verbose=0)"
      ]
     },
     "execution_count": 138,
     "metadata": {},
     "output_type": "execute_result"
    }
   ],
   "source": [
    "param_tst = {'n_estimators': [100],\n",
    "             'max_depth': [4],\n",
    "             'min_child_weight': [9],\n",
    "             'gamma': [0.2],\n",
    "             'subsample': [0.6], \n",
    "             'colsample_bytree': [0.8],\n",
    "             'reg_alpha': [0.05],\n",
    "              'reg_lambda': [1],\n",
    "             'learning_rate': [0.05,0.025]}\n",
    "            \n",
    "\n",
    "\n",
    "\n",
    "gsearch = sklearn.model_selection.GridSearchCV(estimator = xgb.XGBRegressor(base_score=0.5, booster='gbtree', colsample_bylevel=1,\n",
    "             colsample_bynode=1, colsample_bytree=1, gamma=0.2,\n",
    "             importance_type='gain', learning_rate=0.05, max_delta_step=0,\n",
    "             max_depth=4, min_child_weight=2, missing=None, n_estimators=100,\n",
    "             n_jobs=6, nthread=12, objective='reg:linear', random_state=0,\n",
    "             reg_alpha=0, reg_lambda=1, scale_pos_weight=1, seed=1500,\n",
    "             silent=True, subsample=0.8),param_grid = param_tst,cv =5)\n",
    "gsearch.fit(Xtr,Ytr)"
   ]
  },
  {
   "cell_type": "markdown",
   "metadata": {},
   "source": [
    "# "
   ]
  },
  {
   "cell_type": "code",
   "execution_count": 140,
   "metadata": {},
   "outputs": [
    {
     "name": "stdout",
     "output_type": "stream",
     "text": [
      "[23:03:06] WARNING: src/objective/regression_obj.cu:152: reg:linear is now deprecated in favor of reg:squarederror.\n"
     ]
    },
    {
     "data": {
      "text/plain": [
       "0.8335771453082101"
      ]
     },
     "execution_count": 140,
     "metadata": {},
     "output_type": "execute_result"
    }
   ],
   "source": [
    "bat =  xgb.XGBRegressor(base_score=0.5, booster='gbtree', colsample_bylevel=1,\n",
    "             colsample_bynode=1, colsample_bytree=0.8, gamma=0.2,\n",
    "             importance_type='gain', learning_rate=0.05, max_delta_step=0,\n",
    "             max_depth=4, min_child_weight=9, missing=None, n_estimators=100,\n",
    "             n_jobs=1, nthread=None, objective='reg:linear', random_state=0,\n",
    "             reg_alpha=0.05, reg_lambda=1, scale_pos_weight=1, seed=4396,\n",
    "             silent=None, subsample=0.6, verbosity=1)\n",
    "bat.fit(Xtr,Ytr)\n",
    "pred_tr = bat.predict(Xtr)\n",
    "sklearn.metrics.roc_auc_score(Ytr,pred_tr)"
   ]
  },
  {
   "cell_type": "code",
   "execution_count": 139,
   "metadata": {},
   "outputs": [
    {
     "data": {
      "text/plain": [
       "{'colsample_bytree': 0.8,\n",
       " 'gamma': 0.2,\n",
       " 'learning_rate': 0.05,\n",
       " 'max_depth': 4,\n",
       " 'min_child_weight': 9,\n",
       " 'n_estimators': 100,\n",
       " 'reg_alpha': 0.05,\n",
       " 'reg_lambda': 1,\n",
       " 'subsample': 0.6}"
      ]
     },
     "execution_count": 139,
     "metadata": {},
     "output_type": "execute_result"
    }
   ],
   "source": [
    "#sorted(sklearn.metrics.SCORERS.keys())\n",
    "gsearch.best_params_"
   ]
  },
  {
   "cell_type": "code",
   "execution_count": 62,
   "metadata": {},
   "outputs": [],
   "source": [
    "def mypredict(x,y,alg):\n",
    "    alg.fit(x,y)\n",
    "    pred_tr = alg.predict(x)\n",
    "    for k,i in enumerate(pred_tr):\n",
    "        if pred_tr[k] >= 0.5:\n",
    "            pred_tr[k] = 1\n",
    "    else:\n",
    "        pred_tr[k]=0\n",
    "    ct = 0\n",
    "    for i in range(len(pred_tr)):\n",
    "        if pred_tr[i]!=y[i]:\n",
    "            ct +=1\n",
    "    return(ct/len(pred_tr))"
   ]
  },
  {
   "cell_type": "code",
   "execution_count": 141,
   "metadata": {},
   "outputs": [],
   "source": [
    "Xte = np.genfromtxt('data/X_test.txt', delimiter=',')\n",
    "Yte = np.vstack((np.arange(Xte.shape[0]), bat.predict(Xte))).T\n",
    "np.savetxt('Y_submit.txt',Yte,'%d, %.2f',header='Id,Predicted',comments='',delimiter=',')"
   ]
  },
  {
   "cell_type": "code",
   "execution_count": null,
   "metadata": {},
   "outputs": [],
   "source": [
    "bat =  xgb.XGBRegressor(base_score=0.5, booster='gbtree', colsample_bylevel=1,\n",
    "             colsample_bynode=1, colsample_bytree=1, gamma=0,\n",
    "             importance_type='gain', learning_rate=0.05, max_delta_step=0,\n",
    "             max_depth=5, min_child_weight=3, missing=None, n_estimators=100,\n",
    "             n_jobs=1, nthread=None, objective='reg:linear', random_state=0,\n",
    "             reg_alpha=0.8, reg_lambda=0.5, scale_pos_weight=1, seed=4396,\n",
    "             silent=None, subsample=0.8,verbosity=1)\n",
    "# 0.74036\n",
    "\n",
    "param_tst = {\n",
    "    'max_depth' : [5],\n",
    "    'min_child_weight' : [3],\n",
    "    'gamma':[0],\n",
    "     'reg_alpha':[0.8],\n",
    "    'subsample':[0.8],\n",
    "    'reg_lambda':[0.5],\n",
    "    'colsample_bylevel':[0.8],\n",
    "    'colsample_bytree':[0,0.1,0.2,0.3,0.4,0.5,0.6,0.7,0.8,0.9,1]\n",
    "\n",
    "}"
   ]
  }
 ],
 "metadata": {
  "kernelspec": {
   "display_name": "Python 3",
   "language": "python",
   "name": "python3"
  },
  "language_info": {
   "codemirror_mode": {
    "name": "ipython",
    "version": 3
   },
   "file_extension": ".py",
   "mimetype": "text/x-python",
   "name": "python",
   "nbconvert_exporter": "python",
   "pygments_lexer": "ipython3",
   "version": "3.6.9"
  }
 },
 "nbformat": 4,
 "nbformat_minor": 2
}
