{
 "cells": [
  {
   "cell_type": "markdown",
   "metadata": {},
   "source": [
    "## Extra Tree\n"
   ]
  },
  {
   "cell_type": "code",
   "execution_count": 12,
   "metadata": {},
   "outputs": [],
   "source": [
    "import matplotlib.pyplot as plt\n",
    "import xgboost as xgb\n",
    "import mltools as ml\n",
    "import numpy as np\n",
    "from sklearn import *"
   ]
  },
  {
   "cell_type": "code",
   "execution_count": 2,
   "metadata": {},
   "outputs": [],
   "source": [
    "X = np.genfromtxt('data/X_train.txt',delimiter = ',')\n",
    "Y = np.genfromtxt('data/Y_train.txt',delimiter = ',')\n",
    "X,Y = ml.shuffleData(X,Y)\n",
    "Xtr,Xva,Ytr,Yva = ml.splitData(X,Y,0.75)\n",
    "Xte = np.genfromtxt('data/X_test.txt',delimiter = ',')"
   ]
  },
  {
   "cell_type": "code",
   "execution_count": 3,
   "metadata": {},
   "outputs": [],
   "source": [
    "extra_tree_classifier = ensemble.ExtraTreesClassifier(\n",
    "    n_estimators=200, max_depth=200, min_samples_split=6, min_samples_leaf=3, max_features='auto')"
   ]
  },
  {
   "cell_type": "code",
   "execution_count": 4,
   "metadata": {},
   "outputs": [
    {
     "data": {
      "text/plain": [
       "ExtraTreesClassifier(bootstrap=False, class_weight=None, criterion='gini',\n",
       "                     max_depth=200, max_features='auto', max_leaf_nodes=None,\n",
       "                     min_impurity_decrease=0.0, min_impurity_split=None,\n",
       "                     min_samples_leaf=3, min_samples_split=6,\n",
       "                     min_weight_fraction_leaf=0.0, n_estimators=200,\n",
       "                     n_jobs=None, oob_score=False, random_state=None, verbose=0,\n",
       "                     warm_start=False)"
      ]
     },
     "execution_count": 4,
     "metadata": {},
     "output_type": "execute_result"
    }
   ],
   "source": [
    "extra_tree_classifier.fit(Xtr, Ytr)"
   ]
  },
  {
   "cell_type": "code",
   "execution_count": 5,
   "metadata": {},
   "outputs": [
    {
     "name": "stdout",
     "output_type": "stream",
     "text": [
      "validation roc: 0.6892280707867975\n"
     ]
    }
   ],
   "source": [
    "extra_tree_classifier_roc = metrics.roc_auc_score(\n",
    "    Yva, extra_tree_classifier.predict_proba(Xva)[:,1])\n",
    "print(\"validation roc:\", extra_tree_classifier_roc)"
   ]
  },
  {
   "cell_type": "code",
   "execution_count": 10,
   "metadata": {},
   "outputs": [
    {
     "name": "stdout",
     "output_type": "stream",
     "text": [
      "training started\n",
      "0.7266437835043762\n",
      "training error: 0.017424106340937717\n",
      "validation error: 0.34536637931034486\n"
     ]
    }
   ],
   "source": [
    "random_forest_classifier = ensemble.RandomForestClassifier(\n",
    "    n_estimators=1200, min_samples_leaf=5, n_jobs=-1, oob_score=True)\n",
    "\n",
    "print(\"training started\")\n",
    "random_forest_classifier.fit(Xtr, Ytr)\n",
    "random_forest_classifier_roc = metrics.roc_auc_score(\n",
    "    Yva, random_forest_classifier.predict_proba(Xva)[:,1])\n",
    "print(random_forest_classifier_roc)\n",
    "\n",
    "print(\"training error:\", 1 - random_forest_classifier.score(Xtr, Ytr))\n",
    "print(\"validation error:\", 1 - random_forest_classifier.score(Xva, Yva))"
   ]
  },
  {
   "cell_type": "code",
   "execution_count": 13,
   "metadata": {},
   "outputs": [
    {
     "name": "stdout",
     "output_type": "stream",
     "text": [
      "[00:29:05] WARNING: src/objective/regression_obj.cu:152: reg:linear is now deprecated in favor of reg:squarederror.\n"
     ]
    },
    {
     "data": {
      "text/plain": [
       "0.7251058491453661"
      ]
     },
     "execution_count": 13,
     "metadata": {},
     "output_type": "execute_result"
    }
   ],
   "source": [
    "bat =  xgb.XGBRegressor(base_score=0.5, booster='gbtree', colsample_bylevel=1,\n",
    "             colsample_bynode=1, colsample_bytree=1, gamma=0,\n",
    "             importance_type='gain', learning_rate=0.05, max_delta_step=0,\n",
    "             max_depth=5, min_child_weight=3, missing=None, n_estimators=100,\n",
    "             n_jobs=1, nthread=None, objective='reg:linear', random_state=0,\n",
    "             reg_alpha=0.8, reg_lambda=0.5, scale_pos_weight=1, seed=4396,\n",
    "             silent=None, subsample=0.8,verbosity=1)\n",
    "bat.fit(Xtr,Ytr)\n",
    "\n",
    "metrics.roc_auc_score(Yva,bat.predict(Xva))"
   ]
  },
  {
   "cell_type": "code",
   "execution_count": 36,
   "metadata": {},
   "outputs": [
    {
     "name": "stdout",
     "output_type": "stream",
     "text": [
      "1.0\n"
     ]
    }
   ],
   "source": [
    "ada_classifier = ensemble.AdaBoostClassifier(tree.DecisionTreeClassifier(max_depth=5, max_features=15),\n",
    "               n_estimators=1100, learning_rate=0.10)\n",
    "\n",
    "ada_classifier.fit(Xtr, Ytr)\n",
    "\n",
    "ada_classifier_roc = metrics.roc_auc_score(\n",
    "   Ytr, ada_classifier.predict_proba(Xtr)[:,1])\n",
    "print(ada_classifier_roc)"
   ]
  },
  {
   "cell_type": "code",
   "execution_count": 33,
   "metadata": {},
   "outputs": [],
   "source": [
    "classifier_list = [\n",
    "    (\"random_forest\", random_forest_classifier, 18),\n",
    "    (\"extra_tree_classifier\", extra_tree_classifier, 6),\n",
    "    (\"gradient_boosting\", bat, 20),\n",
    "     (\"ada_boosting\", ada_classifier, 3),\n",
    "]\n",
    "\n",
    "\n",
    "y_validation_hat_list = []\n",
    "for classifier in classifier_list:\n",
    "    pyva = classifier[1].predict(Xte)\n",
    "    for i in range(classifier[2]):\n",
    "        y_validation_hat_list.append(pyva)\n",
    "        \n",
    "y_validation_hat_average = np.mean(np.array(y_validation_hat_list), axis=0)\n",
    "\n",
    "#voting_roc = metrics.roc_auc_score(Yva, y_validation_hat_average)"
   ]
  },
  {
   "cell_type": "code",
   "execution_count": 34,
   "metadata": {},
   "outputs": [],
   "source": [
    "Xte = np.genfromtxt('data/X_test.txt', delimiter=',')\n",
    "Yte = np.vstack((np.arange(Xte.shape[0]),y_validation_hat_average)).T\n",
    "np.savetxt('Y_submit.txt',Yte,'%d, %.2f',header='Id,Predicted',comments='',delimiter=',')"
   ]
  },
  {
   "cell_type": "markdown",
   "metadata": {},
   "source": [
    "# "
   ]
  }
 ],
 "metadata": {
  "kernelspec": {
   "display_name": "Python 3",
   "language": "python",
   "name": "python3"
  },
  "language_info": {
   "codemirror_mode": {
    "name": "ipython",
    "version": 3
   },
   "file_extension": ".py",
   "mimetype": "text/x-python",
   "name": "python",
   "nbconvert_exporter": "python",
   "pygments_lexer": "ipython3",
   "version": "3.6.9"
  }
 },
 "nbformat": 4,
 "nbformat_minor": 2
}
